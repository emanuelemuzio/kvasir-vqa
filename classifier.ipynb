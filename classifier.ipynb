{
 "cells": [
  {
   "cell_type": "code",
   "execution_count": 1,
   "metadata": {},
   "outputs": [
    {
     "name": "stderr",
     "output_type": "stream",
     "text": [
      "c:\\Users\\emanu\\Desktop\\Tesi\\kvasir-vqa\\venv\\Lib\\site-packages\\tqdm\\auto.py:21: TqdmWarning: IProgress not found. Please update jupyter and ipywidgets. See https://ipywidgets.readthedocs.io/en/stable/user_install.html\n",
      "  from .autonotebook import tqdm as notebook_tqdm\n"
     ]
    },
    {
     "data": {
      "text/plain": [
       "True"
      ]
     },
     "execution_count": 1,
     "metadata": {},
     "output_type": "execute_result"
    }
   ],
   "source": [
    "import sys\n",
    "sys.path.append('src')\n",
    "\n",
    "from common.util import get_common_subsequences, ROOT\n",
    "from classifier.data import augment_kvasir_vqa\n",
    "import pandas as pd\n",
    "import numpy as np\n",
    "import matplotlib.pyplot as plt\n",
    "import os\n",
    "from dotenv import load_dotenv \n",
    "\n",
    "load_dotenv()"
   ]
  },
  {
   "cell_type": "code",
   "execution_count": 2,
   "metadata": {},
   "outputs": [],
   "source": [
    "df = pd.read_csv(f\"{ROOT}{os.getenv('KVASIR_VQA_CSV')}\")"
   ]
  },
  {
   "cell_type": "code",
   "execution_count": 3,
   "metadata": {},
   "outputs": [
    {
     "data": {
      "text/html": [
       "<div>\n",
       "<style scoped>\n",
       "    .dataframe tbody tr th:only-of-type {\n",
       "        vertical-align: middle;\n",
       "    }\n",
       "\n",
       "    .dataframe tbody tr th {\n",
       "        vertical-align: top;\n",
       "    }\n",
       "\n",
       "    .dataframe thead th {\n",
       "        text-align: right;\n",
       "    }\n",
       "</style>\n",
       "<table border=\"1\" class=\"dataframe\">\n",
       "  <thead>\n",
       "    <tr style=\"text-align: right;\">\n",
       "      <th></th>\n",
       "      <th>source</th>\n",
       "      <th>question</th>\n",
       "      <th>answer</th>\n",
       "      <th>img_id</th>\n",
       "    </tr>\n",
       "  </thead>\n",
       "  <tbody>\n",
       "    <tr>\n",
       "      <th>0</th>\n",
       "      <td>Ulcerative Colitis</td>\n",
       "      <td>Are there any abnormalities in the image? Chec...</td>\n",
       "      <td>ulcerative colitis</td>\n",
       "      <td>cla820gl0s3nv071u4fgd7xgq</td>\n",
       "    </tr>\n",
       "    <tr>\n",
       "      <th>1</th>\n",
       "      <td>Ulcerative Colitis</td>\n",
       "      <td>Are there any anatomical landmarks in the imag...</td>\n",
       "      <td>none</td>\n",
       "      <td>cla820gl0s3nv071u4fgd7xgq</td>\n",
       "    </tr>\n",
       "    <tr>\n",
       "      <th>2</th>\n",
       "      <td>Ulcerative Colitis</td>\n",
       "      <td>Are there any instruments in the image? Check ...</td>\n",
       "      <td>none</td>\n",
       "      <td>cla820gl0s3nv071u4fgd7xgq</td>\n",
       "    </tr>\n",
       "    <tr>\n",
       "      <th>3</th>\n",
       "      <td>Ulcerative Colitis</td>\n",
       "      <td>Have all polyps been removed?</td>\n",
       "      <td>not relevant</td>\n",
       "      <td>cla820gl0s3nv071u4fgd7xgq</td>\n",
       "    </tr>\n",
       "    <tr>\n",
       "      <th>4</th>\n",
       "      <td>Ulcerative Colitis</td>\n",
       "      <td>Is this finding easy to detect?</td>\n",
       "      <td>yes</td>\n",
       "      <td>cla820gl0s3nv071u4fgd7xgq</td>\n",
       "    </tr>\n",
       "  </tbody>\n",
       "</table>\n",
       "</div>"
      ],
      "text/plain": [
       "               source                                           question  \\\n",
       "0  Ulcerative Colitis  Are there any abnormalities in the image? Chec...   \n",
       "1  Ulcerative Colitis  Are there any anatomical landmarks in the imag...   \n",
       "2  Ulcerative Colitis  Are there any instruments in the image? Check ...   \n",
       "3  Ulcerative Colitis                      Have all polyps been removed?   \n",
       "4  Ulcerative Colitis                    Is this finding easy to detect?   \n",
       "\n",
       "               answer                     img_id  \n",
       "0  ulcerative colitis  cla820gl0s3nv071u4fgd7xgq  \n",
       "1                none  cla820gl0s3nv071u4fgd7xgq  \n",
       "2                none  cla820gl0s3nv071u4fgd7xgq  \n",
       "3        not relevant  cla820gl0s3nv071u4fgd7xgq  \n",
       "4                 yes  cla820gl0s3nv071u4fgd7xgq  "
      ]
     },
     "execution_count": 3,
     "metadata": {},
     "output_type": "execute_result"
    }
   ],
   "source": [
    "df.head()"
   ]
  },
  {
   "cell_type": "code",
   "execution_count": 4,
   "metadata": {},
   "outputs": [
    {
     "data": {
      "text/html": [
       "<div>\n",
       "<style scoped>\n",
       "    .dataframe tbody tr th:only-of-type {\n",
       "        vertical-align: middle;\n",
       "    }\n",
       "\n",
       "    .dataframe tbody tr th {\n",
       "        vertical-align: top;\n",
       "    }\n",
       "\n",
       "    .dataframe thead th {\n",
       "        text-align: right;\n",
       "    }\n",
       "</style>\n",
       "<table border=\"1\" class=\"dataframe\">\n",
       "  <thead>\n",
       "    <tr style=\"text-align: right;\">\n",
       "      <th></th>\n",
       "      <th>source</th>\n",
       "      <th>question</th>\n",
       "      <th>answer</th>\n",
       "      <th>img_id</th>\n",
       "    </tr>\n",
       "  </thead>\n",
       "  <tbody>\n",
       "    <tr>\n",
       "      <th>count</th>\n",
       "      <td>58849</td>\n",
       "      <td>58849</td>\n",
       "      <td>58798</td>\n",
       "      <td>58849</td>\n",
       "    </tr>\n",
       "    <tr>\n",
       "      <th>unique</th>\n",
       "      <td>5</td>\n",
       "      <td>20</td>\n",
       "      <td>501</td>\n",
       "      <td>6500</td>\n",
       "    </tr>\n",
       "    <tr>\n",
       "      <th>top</th>\n",
       "      <td>Ulcerative Colitis</td>\n",
       "      <td>Have all polyps been removed?</td>\n",
       "      <td>none</td>\n",
       "      <td>clb0kvxuz8zw4074yheicg35d</td>\n",
       "    </tr>\n",
       "    <tr>\n",
       "      <th>freq</th>\n",
       "      <td>16890</td>\n",
       "      <td>3945</td>\n",
       "      <td>10520</td>\n",
       "      <td>18</td>\n",
       "    </tr>\n",
       "  </tbody>\n",
       "</table>\n",
       "</div>"
      ],
      "text/plain": [
       "                    source                       question answer  \\\n",
       "count                58849                          58849  58798   \n",
       "unique                   5                             20    501   \n",
       "top     Ulcerative Colitis  Have all polyps been removed?   none   \n",
       "freq                 16890                           3945  10520   \n",
       "\n",
       "                           img_id  \n",
       "count                       58849  \n",
       "unique                       6500  \n",
       "top     clb0kvxuz8zw4074yheicg35d  \n",
       "freq                           18  "
      ]
     },
     "execution_count": 4,
     "metadata": {},
     "output_type": "execute_result"
    }
   ],
   "source": [
    "df.describe()"
   ]
  },
  {
   "cell_type": "code",
   "execution_count": 5,
   "metadata": {},
   "outputs": [
    {
     "data": {
      "text/plain": [
       "np.int64(51)"
      ]
     },
     "execution_count": 5,
     "metadata": {},
     "output_type": "execute_result"
    }
   ],
   "source": [
    "df['answer'].isna().sum()"
   ]
  },
  {
   "cell_type": "code",
   "execution_count": 6,
   "metadata": {},
   "outputs": [],
   "source": [
    "df.dropna(axis=0, inplace=True)"
   ]
  },
  {
   "cell_type": "code",
   "execution_count": 7,
   "metadata": {},
   "outputs": [
    {
     "data": {
      "text/html": [
       "<div>\n",
       "<style scoped>\n",
       "    .dataframe tbody tr th:only-of-type {\n",
       "        vertical-align: middle;\n",
       "    }\n",
       "\n",
       "    .dataframe tbody tr th {\n",
       "        vertical-align: top;\n",
       "    }\n",
       "\n",
       "    .dataframe thead th {\n",
       "        text-align: right;\n",
       "    }\n",
       "</style>\n",
       "<table border=\"1\" class=\"dataframe\">\n",
       "  <thead>\n",
       "    <tr style=\"text-align: right;\">\n",
       "      <th></th>\n",
       "      <th>source</th>\n",
       "      <th>question</th>\n",
       "      <th>answer</th>\n",
       "      <th>img_id</th>\n",
       "    </tr>\n",
       "  </thead>\n",
       "  <tbody>\n",
       "    <tr>\n",
       "      <th>count</th>\n",
       "      <td>58798</td>\n",
       "      <td>58798</td>\n",
       "      <td>58798</td>\n",
       "      <td>58798</td>\n",
       "    </tr>\n",
       "    <tr>\n",
       "      <th>unique</th>\n",
       "      <td>5</td>\n",
       "      <td>19</td>\n",
       "      <td>501</td>\n",
       "      <td>6449</td>\n",
       "    </tr>\n",
       "    <tr>\n",
       "      <th>top</th>\n",
       "      <td>Ulcerative Colitis</td>\n",
       "      <td>Have all polyps been removed?</td>\n",
       "      <td>none</td>\n",
       "      <td>clb0kvxuz8zw4074yheicg35d</td>\n",
       "    </tr>\n",
       "    <tr>\n",
       "      <th>freq</th>\n",
       "      <td>16884</td>\n",
       "      <td>3945</td>\n",
       "      <td>10520</td>\n",
       "      <td>18</td>\n",
       "    </tr>\n",
       "  </tbody>\n",
       "</table>\n",
       "</div>"
      ],
      "text/plain": [
       "                    source                       question answer  \\\n",
       "count                58798                          58798  58798   \n",
       "unique                   5                             19    501   \n",
       "top     Ulcerative Colitis  Have all polyps been removed?   none   \n",
       "freq                 16884                           3945  10520   \n",
       "\n",
       "                           img_id  \n",
       "count                       58798  \n",
       "unique                       6449  \n",
       "top     clb0kvxuz8zw4074yheicg35d  \n",
       "freq                           18  "
      ]
     },
     "execution_count": 7,
     "metadata": {},
     "output_type": "execute_result"
    }
   ],
   "source": [
    "df.describe()"
   ]
  },
  {
   "cell_type": "code",
   "execution_count": 8,
   "metadata": {},
   "outputs": [],
   "source": [
    "questions = list(sorted(df.question.unique()))"
   ]
  },
  {
   "cell_type": "code",
   "execution_count": 9,
   "metadata": {},
   "outputs": [
    {
     "data": {
      "text/plain": [
       "['Are there any abnormalities in the image? Check all that are present.',\n",
       " 'Are there any anatomical landmarks in the image? Check all that are present.',\n",
       " 'Are there any instruments in the image? Check all that are present.',\n",
       " 'Does this image contain any finding?',\n",
       " 'Have all polyps been removed?',\n",
       " 'How many findings are present?',\n",
       " 'How many instrumnets are in the image?',\n",
       " 'How many polyps are in the image?',\n",
       " 'Is there a green/black box artefact?',\n",
       " 'Is there text?',\n",
       " 'Is this finding easy to detect?',\n",
       " 'What color is the abnormality? If more than one separate with ;',\n",
       " 'What color is the anatomical landmark? If more than one separate with ;',\n",
       " 'What is the size of the polyp?',\n",
       " 'What type of polyp is present?',\n",
       " 'What type of procedure is the image taken from?',\n",
       " 'Where in the image is the abnormality?',\n",
       " 'Where in the image is the anatomical landmark?',\n",
       " 'Where in the image is the instrument?']"
      ]
     },
     "execution_count": 9,
     "metadata": {},
     "output_type": "execute_result"
    }
   ],
   "source": [
    "questions"
   ]
  },
  {
   "cell_type": "code",
   "execution_count": 10,
   "metadata": {},
   "outputs": [
    {
     "data": {
      "text/plain": [
       "[{'subsequence': 'What', 'freq': 5},\n",
       " {'subsequence': 'Where in the image is the', 'freq': 3},\n",
       " {'subsequence': 'Where in the image is', 'freq': 3},\n",
       " {'subsequence': 'Where in the image', 'freq': 3},\n",
       " {'subsequence': 'Are there any', 'freq': 3},\n",
       " {'subsequence': 'Where in the', 'freq': 3},\n",
       " {'subsequence': 'Are there', 'freq': 3},\n",
       " {'subsequence': 'How many', 'freq': 3},\n",
       " {'subsequence': 'Where in', 'freq': 3},\n",
       " {'subsequence': 'Where', 'freq': 3},\n",
       " {'subsequence': 'Are', 'freq': 3},\n",
       " {'subsequence': 'How', 'freq': 3},\n",
       " {'subsequence': 'Is', 'freq': 3},\n",
       " {'subsequence': 'What color is the', 'freq': 2},\n",
       " {'subsequence': 'What color is', 'freq': 2},\n",
       " {'subsequence': 'What type of', 'freq': 2},\n",
       " {'subsequence': 'What color', 'freq': 2},\n",
       " {'subsequence': 'What type', 'freq': 2},\n",
       " {'subsequence': 'Is there', 'freq': 2}]"
      ]
     },
     "execution_count": 10,
     "metadata": {},
     "output_type": "execute_result"
    }
   ],
   "source": [
    "common_subsequences = get_common_subsequences(questions)\n",
    "\n",
    "common_subsequences"
   ]
  },
  {
   "cell_type": "code",
   "execution_count": 11,
   "metadata": {},
   "outputs": [
    {
     "data": {
      "text/plain": [
       "<BarContainer object of 19 artists>"
      ]
     },
     "execution_count": 11,
     "metadata": {},
     "output_type": "execute_result"
    },
    {
     "data": {
      "image/png": "[encoded data removed]",
      "text/plain": [
       "<Figure size 640x480 with 1 Axes>"
      ]
     },
     "metadata": {},
     "output_type": "display_data"
    }
   ],
   "source": [
    "X = list(map(lambda x: x['subsequence'], common_subsequences))\n",
    "\n",
    "y = list(map(lambda x: x['freq'], common_subsequences))\n",
    "\n",
    "plt.barh(X, y)"
   ]
  },
  {
   "cell_type": "code",
   "execution_count": 12,
   "metadata": {},
   "outputs": [
    {
     "name": "stdout",
     "output_type": "stream",
     "text": [
      "Max question length is: 13\n",
      "Mean question length is: 7\n"
     ]
    }
   ],
   "source": [
    "questions_length = list(map(lambda x: len(x.split(' ')), df.question.tolist()))\n",
    "\n",
    "max_length = np.max(questions_length)\n",
    "mean_length = np.mean(questions_length)\n",
    "\n",
    "print(f\"Max question length is: {max_length}\")\n",
    "print(f\"Mean question length is: {int(mean_length)}\")"
   ]
  },
  {
   "cell_type": "code",
   "execution_count": 13,
   "metadata": {},
   "outputs": [
    {
     "data": {
      "text/plain": [
       "answer\n",
       "none                                                                                     10520\n",
       "no                                                                                        8382\n",
       "yes                                                                                       6861\n",
       "0                                                                                         4538\n",
       "1                                                                                         4380\n",
       "                                                                                         ...  \n",
       "center; lower-center; lower-left; upper-left                                                 1\n",
       "grey; black; white                                                                           1\n",
       "black; grey; white                                                                           1\n",
       "center; center-left; center-right; lower-right; upper-center; upper-left; upper-right        1\n",
       "red; grey                                                                                    1\n",
       "Name: count, Length: 501, dtype: int64"
      ]
     },
     "execution_count": 13,
     "metadata": {},
     "output_type": "execute_result"
    }
   ],
   "source": [
    "df['answer'].value_counts()"
   ]
  },
  {
   "cell_type": "code",
   "execution_count": 14,
   "metadata": {},
   "outputs": [],
   "source": [
    "all_answers = df['answer'].value_counts()\n",
    "threshold = 8\n",
    "answer_aug = [k for k, v in all_answers.items() if v < 8]"
   ]
  },
  {
   "cell_type": "code",
   "execution_count": 15,
   "metadata": {},
   "outputs": [
    {
     "name": "stdout",
     "output_type": "stream",
     "text": [
      "Answers for augmentation: 354\n"
     ]
    }
   ],
   "source": [
    "print(f\"Answers for augmentation: {len(answer_aug)}\")"
   ]
  },
  {
   "cell_type": "code",
   "execution_count": 16,
   "metadata": {},
   "outputs": [],
   "source": [
    "aug_df = None\n",
    "new_df = None"
   ]
  },
  {
   "cell_type": "code",
   "execution_count": 18,
   "metadata": {},
   "outputs": [],
   "source": [
    "if len(os.listdir(os.getenv('KVASIR_VQA_DATA_AUG'))) == 0:\n",
    "    aug_df = augment_kvasir_vqa(df, answer_aug, threshold)\n",
    "    new_df = pd.concat([df, aug_df], axis=0)\n",
    "    new_df.to_csv(f\"{ROOT}/{os.getenv('KVASIR_VQA_CSV_AUG')}\", index=False)\n",
    "else:\n",
    "    new_df = pd.read_csv(os.getenv('KVASIR_VQA_CSV_AUG'))"
   ]
  },
  {
   "cell_type": "code",
   "execution_count": 19,
   "metadata": {},
   "outputs": [
    {
     "data": {
      "text/plain": [
       "answer\n",
       "none                                                                                     10520\n",
       "no                                                                                        8382\n",
       "yes                                                                                       6861\n",
       "0                                                                                         4538\n",
       "1                                                                                         4380\n",
       "                                                                                         ...  \n",
       "white; blue; pink                                                                            8\n",
       "metal clip; polyp snare                                                                      8\n",
       "center; lower-center; lower-right; upper-center; upper-left                                  8\n",
       "lower-center; lower-right; upper-center; upper-right                                         8\n",
       "center; center-right; lower-center; lower-left; upper-center; upper-left; upper-right        8\n",
       "Name: count, Length: 501, dtype: int64"
      ]
     },
     "execution_count": 19,
     "metadata": {},
     "output_type": "execute_result"
    }
   ],
   "source": [
    "new_df['answer'].value_counts()"
   ]
  }
 ],
 "metadata": {
  "kernelspec": {
   "display_name": "venv",
   "language": "python",
   "name": "python3"
  },
  "language_info": {
   "codemirror_mode": {
    "name": "ipython",
    "version": 3
   },
   "file_extension": ".py",
   "mimetype": "text/x-python",
   "name": "python",
   "nbconvert_exporter": "python",
   "pygments_lexer": "ipython3",
   "version": "3.11.7"
  }
 },
 "nbformat": 4,
 "nbformat_minor": 2
}
