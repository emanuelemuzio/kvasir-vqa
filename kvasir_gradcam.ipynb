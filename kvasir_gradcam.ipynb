{
 "cells": [
  {
   "cell_type": "code",
   "execution_count": 1,
   "metadata": {},
   "outputs": [
    {
     "name": "stderr",
     "output_type": "stream",
     "text": [
      "c:\\Users\\emanu\\Desktop\\Tesi\\kvasir-vqa\\venv\\Lib\\site-packages\\tqdm\\auto.py:21: TqdmWarning: IProgress not found. Please update jupyter and ipywidgets. See https://ipywidgets.readthedocs.io/en/stable/user_install.html\n",
      "  from .autonotebook import tqdm as notebook_tqdm\n"
     ]
    }
   ],
   "source": [
    "from dataset import prepare_data"
   ]
  },
  {
   "cell_type": "code",
   "execution_count": 12,
   "metadata": {},
   "outputs": [
    {
     "data": {
      "text/html": [
       "<div>\n",
       "<style scoped>\n",
       "    .dataframe tbody tr th:only-of-type {\n",
       "        vertical-align: middle;\n",
       "    }\n",
       "\n",
       "    .dataframe tbody tr th {\n",
       "        vertical-align: top;\n",
       "    }\n",
       "\n",
       "    .dataframe thead th {\n",
       "        text-align: right;\n",
       "    }\n",
       "</style>\n",
       "<table border=\"1\" class=\"dataframe\">\n",
       "  <thead>\n",
       "    <tr style=\"text-align: right;\">\n",
       "      <th></th>\n",
       "      <th>path</th>\n",
       "      <th>label</th>\n",
       "      <th>code</th>\n",
       "      <th>bbox</th>\n",
       "    </tr>\n",
       "  </thead>\n",
       "  <tbody>\n",
       "    <tr>\n",
       "      <th>0</th>\n",
       "      <td>./data/hyper-kvasir/labeled-images/lower-gi-tr...</td>\n",
       "      <td>retroflex-rectum</td>\n",
       "      <td>c8fb970e-169d-4b34-b792-c05ec6cf675d</td>\n",
       "      <td>[]</td>\n",
       "    </tr>\n",
       "    <tr>\n",
       "      <th>1</th>\n",
       "      <td>./data/hyper-kvasir/labeled-images/lower-gi-tr...</td>\n",
       "      <td>polyps</td>\n",
       "      <td>1e72b28c-86ad-4739-8339-b1a5cc257763</td>\n",
       "      <td>[]</td>\n",
       "    </tr>\n",
       "    <tr>\n",
       "      <th>2</th>\n",
       "      <td>./data/hyper-kvasir/labeled-images/upper-gi-tr...</td>\n",
       "      <td>retroflex-stomach</td>\n",
       "      <td>99711a6b-c322-4425-bf1a-a186bd6f3aca</td>\n",
       "      <td>[]</td>\n",
       "    </tr>\n",
       "    <tr>\n",
       "      <th>3</th>\n",
       "      <td>./data/hyper-kvasir/labeled-images/lower-gi-tr...</td>\n",
       "      <td>dyed-lifted-polyps</td>\n",
       "      <td>3e9dda33-3511-43a1-80e8-20abb11b23be</td>\n",
       "      <td>[]</td>\n",
       "    </tr>\n",
       "    <tr>\n",
       "      <th>4</th>\n",
       "      <td>./data/hyper-kvasir/labeled-images/lower-gi-tr...</td>\n",
       "      <td>dyed-resection-margins</td>\n",
       "      <td>97067edc-a32e-4a6b-952b-fe00e14956de</td>\n",
       "      <td>[]</td>\n",
       "    </tr>\n",
       "  </tbody>\n",
       "</table>\n",
       "</div>"
      ],
      "text/plain": [
       "                                                path                   label  \\\n",
       "0  ./data/hyper-kvasir/labeled-images/lower-gi-tr...        retroflex-rectum   \n",
       "1  ./data/hyper-kvasir/labeled-images/lower-gi-tr...                  polyps   \n",
       "2  ./data/hyper-kvasir/labeled-images/upper-gi-tr...       retroflex-stomach   \n",
       "3  ./data/hyper-kvasir/labeled-images/lower-gi-tr...      dyed-lifted-polyps   \n",
       "4  ./data/hyper-kvasir/labeled-images/lower-gi-tr...  dyed-resection-margins   \n",
       "\n",
       "                                   code bbox  \n",
       "0  c8fb970e-169d-4b34-b792-c05ec6cf675d   []  \n",
       "1  1e72b28c-86ad-4739-8339-b1a5cc257763   []  \n",
       "2  99711a6b-c322-4425-bf1a-a186bd6f3aca   []  \n",
       "3  3e9dda33-3511-43a1-80e8-20abb11b23be   []  \n",
       "4  97067edc-a32e-4a6b-952b-fe00e14956de   []  "
      ]
     },
     "execution_count": 12,
     "metadata": {},
     "output_type": "execute_result"
    }
   ],
   "source": [
    "dataset = prepare_data()\n",
    "\n",
    "dataset.head()"
   ]
  },
  {
   "cell_type": "code",
   "execution_count": 11,
   "metadata": {},
   "outputs": [
    {
     "data": {
      "text/html": [
       "<div>\n",
       "<style scoped>\n",
       "    .dataframe tbody tr th:only-of-type {\n",
       "        vertical-align: middle;\n",
       "    }\n",
       "\n",
       "    .dataframe tbody tr th {\n",
       "        vertical-align: top;\n",
       "    }\n",
       "\n",
       "    .dataframe thead th {\n",
       "        text-align: right;\n",
       "    }\n",
       "</style>\n",
       "<table border=\"1\" class=\"dataframe\">\n",
       "  <thead>\n",
       "    <tr style=\"text-align: right;\">\n",
       "      <th></th>\n",
       "      <th>path</th>\n",
       "      <th>label</th>\n",
       "      <th>code</th>\n",
       "      <th>bbox</th>\n",
       "    </tr>\n",
       "  </thead>\n",
       "  <tbody>\n",
       "    <tr>\n",
       "      <th>count</th>\n",
       "      <td>12353</td>\n",
       "      <td>12353</td>\n",
       "      <td>12353</td>\n",
       "      <td>12353</td>\n",
       "    </tr>\n",
       "    <tr>\n",
       "      <th>unique</th>\n",
       "      <td>25</td>\n",
       "      <td>25</td>\n",
       "      <td>11252</td>\n",
       "      <td>1692</td>\n",
       "    </tr>\n",
       "    <tr>\n",
       "      <th>top</th>\n",
       "      <td>./data/hyper-kvasir/labeled-images/lower-gi-tr...</td>\n",
       "      <td>bbps-2-3</td>\n",
       "      <td>4604cf0d-7992-48a4-baba-51768bcf0469</td>\n",
       "      <td>[]</td>\n",
       "    </tr>\n",
       "    <tr>\n",
       "      <th>freq</th>\n",
       "      <td>1148</td>\n",
       "      <td>1148</td>\n",
       "      <td>11</td>\n",
       "      <td>10662</td>\n",
       "    </tr>\n",
       "  </tbody>\n",
       "</table>\n",
       "</div>"
      ],
      "text/plain": [
       "                                                     path     label  \\\n",
       "count                                               12353     12353   \n",
       "unique                                                 25        25   \n",
       "top     ./data/hyper-kvasir/labeled-images/lower-gi-tr...  bbps-2-3   \n",
       "freq                                                 1148      1148   \n",
       "\n",
       "                                        code   bbox  \n",
       "count                                  12353  12353  \n",
       "unique                                 11252   1692  \n",
       "top     4604cf0d-7992-48a4-baba-51768bcf0469     []  \n",
       "freq                                      11  10662  "
      ]
     },
     "execution_count": 11,
     "metadata": {},
     "output_type": "execute_result"
    }
   ],
   "source": [
    "dataset.describe()"
   ]
  },
  {
   "cell_type": "code",
   "execution_count": 14,
   "metadata": {},
   "outputs": [
    {
     "data": {
      "text/plain": [
       "['ulcerative-colitis-grade-2',\n",
       " 'dyed-resection-margins',\n",
       " 'polyp',\n",
       " 'bbps-2-3',\n",
       " 'barretts-short-segment',\n",
       " 'retroflex-stomach',\n",
       " 'ulcerative-colitis-grade-0-1',\n",
       " 'ulcerative-colitis-grade-1-2',\n",
       " 'pylorus',\n",
       " 'bbps-0-1',\n",
       " 'cecum',\n",
       " 'dyed-lifted-polyps',\n",
       " 'polyps',\n",
       " 'impacted-stool',\n",
       " 'ulcerative-colitis-grade-1',\n",
       " 'z-line',\n",
       " 'ulcerative-colitis-grade-3',\n",
       " 'hemorrhoids',\n",
       " 'ulcerative-colitis-grade-2-3',\n",
       " 'barretts',\n",
       " 'ileum',\n",
       " 'instrument',\n",
       " 'retroflex-rectum',\n",
       " 'esophagitis-a',\n",
       " 'esophagitis-b-d']"
      ]
     },
     "execution_count": 14,
     "metadata": {},
     "output_type": "execute_result"
    }
   ],
   "source": [
    "labels = list(set(dataset[\"label\"]))\n",
    "\n",
    "labels"
   ]
  },
  {
   "cell_type": "code",
   "execution_count": 25,
   "metadata": {},
   "outputs": [
    {
     "name": "stdout",
     "output_type": "stream",
     "text": [
      "Label: ulcerative-colitis-grade-2, Rows: 443\n",
      "Label: dyed-resection-margins, Rows: 989\n",
      "Label: polyp, Rows: 1071\n",
      "Label: bbps-2-3, Rows: 1148\n",
      "Label: barretts-short-segment, Rows: 53\n",
      "Label: retroflex-stomach, Rows: 764\n",
      "Label: ulcerative-colitis-grade-0-1, Rows: 35\n",
      "Label: ulcerative-colitis-grade-1-2, Rows: 11\n",
      "Label: pylorus, Rows: 999\n",
      "Label: bbps-0-1, Rows: 646\n",
      "Label: cecum, Rows: 1009\n",
      "Label: dyed-lifted-polyps, Rows: 1002\n",
      "Label: polyps, Rows: 1028\n",
      "Label: impacted-stool, Rows: 131\n",
      "Label: ulcerative-colitis-grade-1, Rows: 201\n",
      "Label: z-line, Rows: 932\n",
      "Label: ulcerative-colitis-grade-3, Rows: 133\n",
      "Label: hemorrhoids, Rows: 6\n",
      "Label: ulcerative-colitis-grade-2-3, Rows: 28\n",
      "Label: barretts, Rows: 41\n",
      "Label: ileum, Rows: 9\n",
      "Label: instrument, Rows: 620\n",
      "Label: retroflex-rectum, Rows: 391\n",
      "Label: esophagitis-a, Rows: 403\n",
      "Label: esophagitis-b-d, Rows: 260\n"
     ]
    }
   ],
   "source": [
    "labels_count = {}\n",
    "for label in labels:\n",
    "    labels_count[label] = len(dataset[dataset['label'] == label])\n",
    "    print(f\"Label: {label}, Rows: {len(dataset[dataset['label'] == label])}\")"
   ]
  },
  {
   "cell_type": "markdown",
   "metadata": {},
   "source": [
    "Dataset are not balanced due to the fact that some findings appear more than others.\n",
    "\n",
    "Try grouping the labels like ulcerative-colitis, ecc..\n",
    "Let's first sort them"
   ]
  },
  {
   "cell_type": "code",
   "execution_count": 29,
   "metadata": {},
   "outputs": [
    {
     "data": {
      "text/plain": [
       "{'bbps-2-3': 1148,\n",
       " 'polyp': 1071,\n",
       " 'polyps': 1028,\n",
       " 'cecum': 1009,\n",
       " 'dyed-lifted-polyps': 1002,\n",
       " 'pylorus': 999,\n",
       " 'dyed-resection-margins': 989,\n",
       " 'z-line': 932,\n",
       " 'retroflex-stomach': 764,\n",
       " 'bbps-0-1': 646,\n",
       " 'instrument': 620,\n",
       " 'ulcerative-colitis-grade-2': 443,\n",
       " 'esophagitis-a': 403,\n",
       " 'retroflex-rectum': 391,\n",
       " 'esophagitis-b-d': 260,\n",
       " 'ulcerative-colitis-grade-1': 201,\n",
       " 'ulcerative-colitis-grade-3': 133,\n",
       " 'impacted-stool': 131,\n",
       " 'barretts-short-segment': 53,\n",
       " 'barretts': 41,\n",
       " 'ulcerative-colitis-grade-0-1': 35,\n",
       " 'ulcerative-colitis-grade-2-3': 28,\n",
       " 'ulcerative-colitis-grade-1-2': 11,\n",
       " 'ileum': 9,\n",
       " 'hemorrhoids': 6}"
      ]
     },
     "execution_count": 29,
     "metadata": {},
     "output_type": "execute_result"
    }
   ],
   "source": [
    "labels_count = dict(sorted(labels_count.items(), key=lambda item: item[1], reverse=True))\n",
    "\n",
    "labels_count"
   ]
  },
  {
   "cell_type": "code",
   "execution_count": null,
   "metadata": {},
   "outputs": [],
   "source": [
    "{\n",
    "    \"bbps-2-3\" : 0, # Boston Bowel Preparation Scale, indice di preparazione intestinale per colonscopia, 2-3 -> mucosa visualizzabile\n",
    "    \"polyps\" : 1,\n",
    "    \"cecum\" : 2, # Intestino cieco\n",
    "    \"dyed-lifted-polyps\" : 3,\n",
    "    \"pylorus\" : 4, # Connette stomaco e duodeno\n",
    "    \"dyed-resection-margins\" : 5,\n",
    "    \"z-line\" : 6,\n",
    "    \"retroflex-stomach\" : 7,\n",
    "    \"bbps-0-1\" : 8, # Mucosa non visualizzabile\n",
    "    \"instrument\" : 9,\n",
    "    \"ulcerative-colitis\" : 10,\n",
    "    \"esophagitis-a\" : 11, # una o più perdite di mucosa della lunghezza di non più di 5 mm senza continuità\n",
    "    \"retroflex-rectum\" : 12,\n",
    "    \"esophagitis-b-d\" : \n",
    "}"
   ]
  }
 ],
 "metadata": {
  "kernelspec": {
   "display_name": "venv",
   "language": "python",
   "name": "python3"
  },
  "language_info": {
   "codemirror_mode": {
    "name": "ipython",
    "version": 3
   },
   "file_extension": ".py",
   "mimetype": "text/x-python",
   "name": "python",
   "nbconvert_exporter": "python",
   "pygments_lexer": "ipython3",
   "version": "3.11.7"
  }
 },
 "nbformat": 4,
 "nbformat_minor": 2
}
